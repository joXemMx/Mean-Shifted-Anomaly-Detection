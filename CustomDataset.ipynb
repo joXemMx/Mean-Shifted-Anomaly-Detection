{
 "cells": [
  {
   "cell_type": "markdown",
   "source": [
    "Copyright by Jonas Emmert <br>\n",
    "\n",
    "Research Group Applied Systems Biology - Head: Prof. Dr. Marc Thilo Figge <br>\n",
    "https://www.leibniz-hki.de/en/applied-systems-biology.html <br>\n",
    "HKI-Center for Systems Biology of Infection <br>\n",
    "Leibniz Institute for Natural Product Research and Infection Biology - Hans Knöll Insitute (HKI) <br>\n",
    "Adolf-Reichwein-Straße 23, 07745 Jena, Germany"
   ],
   "metadata": {
    "collapsed": false
   }
  },
  {
   "cell_type": "markdown",
   "source": [
    "Mean and std are needed in utils.py and need to be manually inserted. It is best to use the MSAD code in PyCharm or\n",
    "something identical, as this allows to work on the notebook, manipulate the .py files and excecute\n",
    "the .py files in the build in terminal all at once. <br>\n",
    "Also add the paths to the utils.py get_loaders function under dataset == 'custom'."
   ],
   "metadata": {
    "collapsed": false,
    "pycharm": {
     "name": "#%% md\n"
    }
   }
  },
  {
   "cell_type": "code",
   "execution_count": null,
   "metadata": {
    "collapsed": true
   },
   "outputs": [],
   "source": [
    "import torch\n",
    "from torchvision import datasets, transforms"
   ]
  },
  {
   "cell_type": "code",
   "execution_count": null,
   "outputs": [],
   "source": [
    "def create_dataset(path, transforms):\n",
    "    # ToTensor() automatically normalizes pixel values to [0,1]\n",
    "    dataset = datasets.ImageFolder(path, transform=transforms)\n",
    "    return dataset"
   ],
   "metadata": {
    "collapsed": false,
    "pycharm": {
     "name": "#%%\n"
    }
   }
  },
  {
   "cell_type": "code",
   "execution_count": null,
   "outputs": [],
   "source": [
    "# calculate WHOLE dataset mean and standard deviation\n",
    "def get_mean_std(dataset, batch_size):\n",
    "    # create a data loader\n",
    "    loader = torch.utils.data.DataLoader(dataset,\n",
    "                             batch_size=batch_size,\n",
    "                             num_workers=0,\n",
    "                             shuffle=False)\n",
    "\n",
    "    mean = 0.0\n",
    "    var = 0.0\n",
    "\n",
    "    for images, _ in loader:\n",
    "        batch_samples = images.size(0)\n",
    "        images = images.view(batch_samples, images.size(1), -1)\n",
    "        mean += images.mean(2).sum(0)\n",
    "    mean = mean / len(loader.dataset)\n",
    "\n",
    "    for images, _ in loader:\n",
    "        batch_samples = images.size(0)\n",
    "        images = images.view(batch_samples, images.size(1), -1)\n",
    "        var += ((images - mean.unsqueeze(1)) ** 2).sum([0, 2])\n",
    "    std = torch.sqrt(var / (len(loader.dataset) * 224 * 224))\n",
    "\n",
    "    mean = [round(float(x), 3) for x in mean]\n",
    "    std = [round(float(x), 3) for x in std]\n",
    "\n",
    "    return mean, std"
   ],
   "metadata": {
    "collapsed": false,
    "pycharm": {
     "name": "#%%\n"
    }
   }
  },
  {
   "cell_type": "code",
   "execution_count": null,
   "outputs": [],
   "source": [
    "# WHOLE dataset --> train & test sets\n",
    "\n",
    "path_to_train = 'E:\\\\parralelcomputed_trackdata\\\\Heatmaps_train_norm\\\\'\n",
    "path_to_test = 'E:\\\\parralelcomputed_trackdata\\\\Heatmaps_test\\\\'\n",
    "ds_train = create_dataset(path_to_train, transforms=transforms.ToTensor())\n",
    "ds_test = create_dataset(path_to_test, transforms=transforms.ToTensor())\n",
    "whole_ds = torch.utils.data.ConcatDataset([ds_train, ds_test])\n",
    "mean, std = get_mean_std(whole_ds, 10)\n",
    "print(mean)\n",
    "print(std)"
   ],
   "metadata": {
    "collapsed": false,
    "pycharm": {
     "name": "#%%\n"
    }
   }
  }
 ],
 "metadata": {
  "kernelspec": {
   "display_name": "Python 3",
   "language": "python",
   "name": "python3"
  },
  "language_info": {
   "codemirror_mode": {
    "name": "ipython",
    "version": 2
   },
   "file_extension": ".py",
   "mimetype": "text/x-python",
   "name": "python",
   "nbconvert_exporter": "python",
   "pygments_lexer": "ipython2",
   "version": "2.7.6"
  }
 },
 "nbformat": 4,
 "nbformat_minor": 0
}